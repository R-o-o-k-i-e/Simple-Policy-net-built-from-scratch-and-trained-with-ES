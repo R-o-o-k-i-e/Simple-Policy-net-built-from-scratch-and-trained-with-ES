{
 "cells": [
  {
   "cell_type": "code",
   "execution_count": 1,
   "id": "a2e3353f",
   "metadata": {},
   "outputs": [],
   "source": [
    "import numpy as np\n",
    "import torch\n",
    "import torch.nn as nn\n",
    "from config import args\n",
    "import random\n",
    "from einops import rearrange\n",
    "import gymnasium as gym\n",
    "import torch.nn.functional as F\n",
    "from matplotlib import pyplot as plt"
   ]
  },
  {
   "cell_type": "code",
   "execution_count": 2,
   "id": "96ffb4e5",
   "metadata": {},
   "outputs": [],
   "source": [
    "class Actor(nn.Module):\n",
    "    def __init__(self,args):\n",
    "        super().__init__()\n",
    "        self.matrices=[]\n",
    "        self.args=args\n",
    "        matrix1=torch.empty(args['state_dim'],args['hidden_dim'],device=args['device'])\n",
    "        nn.init.normal_(matrix1,mean=0.0,std=torch.sqrt(torch.tensor(1/args['state_dim'],device=args['device'])))\n",
    "        self.matrices.append(matrix1)\n",
    "        for _ in range(args['hidden_layer']-1):\n",
    "            matrix=torch.empty(args['hidden_dim'],args['hidden_dim'],device=args['device'])\n",
    "            nn.init.normal_(matrix,mean=0.0,std=torch.sqrt(torch.tensor(1/args['hidden_dim'],device=args['device'])))\n",
    "            self.matrices.append(matrix)\n",
    "        matrix2=torch.empty(args['hidden_dim'],args['action_dim'],device=args['device'])\n",
    "        nn.init.normal_(matrix2,mean=0.0,std=torch.sqrt(torch.tensor(1/args['hidden_dim'],device=args['device'])))\n",
    "        self.matrices.append(matrix2)\n",
    "        self.LayerNorms=nn.ModuleList([nn.LayerNorm(args['hidden_dim'],device=args['device']) for _ in range(args['hidden_layer'])])\n",
    "    def set_matrices(self,matrices):\n",
    "        self.matrices=matrices\n",
    "    def forward(self,x):\n",
    "        for i in range(self.args['hidden_layer']):\n",
    "            x=x@self.matrices[i]\n",
    "            x=self.LayerNorms[i](x)\n",
    "        x=x@self.matrices[-1]\n",
    "        probs=F.softmax(x)\n",
    "        action_dist=torch.distributions.Categorical(probs)\n",
    "        action=action_dist.sample()\n",
    "        return action.item()"
   ]
  },
  {
   "cell_type": "code",
   "execution_count": 3,
   "id": "edd9a7ae",
   "metadata": {},
   "outputs": [],
   "source": [
    "def selection(generation,args):\n",
    "    parents=[]\n",
    "    while len(parents)<args['parents_size']:\n",
    "        a=random.sample(range(0,args['generation_size']),args['tournament_size'])\n",
    "        best=-999999\n",
    "        for i in range(len(a)):\n",
    "            if generation[a[i]]['fitness']>best:\n",
    "                parent=generation[a[i]]\n",
    "                best=generation[a[i]]['fitness']\n",
    "        parents.append(parent)\n",
    "    return parents"
   ]
  },
  {
   "cell_type": "code",
   "execution_count": 4,
   "id": "637a1704",
   "metadata": {},
   "outputs": [],
   "source": [
    "def crossover(parents,args):\n",
    "    next_generation=[]\n",
    "    sorted_parents=sorted(parents, key=lambda x: x['fitness'], reverse=True)\n",
    "    for i in range(args['champion_save']):\n",
    "        next_generation.append(sorted_parents[i])\n",
    "    while len(next_generation)<args['generation_size']:\n",
    "        pair=random.sample(range(0,args['parents_size']),2)\n",
    "        matrices1=parents[pair[0]]['model'].matrices\n",
    "        matrices2=parents[pair[1]]['model'].matrices\n",
    "        next_matrices1=[]\n",
    "        next_matrices2=[]\n",
    "        for i in range(args['hidden_layer']):\n",
    "            a=matrices1[i]\n",
    "            b=matrices2[i]\n",
    "            cross=torch.randint(0,2,(args['hidden_dim'],),device=args['device'])\n",
    "            aa=a*cross+b*(1-cross)\n",
    "            bb=a*(1-cross)+b*cross\n",
    "            next_matrices1.append(aa)\n",
    "            next_matrices2.append(bb)\n",
    "        a=matrices1[-1]\n",
    "        b=matrices2[-1]    \n",
    "        cross=torch.randint(0,2,(args['action_dim'],),device=args['device'])\n",
    "        aa=a*cross+b*(1-cross)\n",
    "        bb=a*(1-cross)+b*cross\n",
    "        next_matrices1.append(aa)\n",
    "        next_matrices2.append(bb)\n",
    "        model1=Actor(args)\n",
    "        model1.set_matrices(next_matrices1)\n",
    "        model2=Actor(args)\n",
    "        model2.set_matrices(next_matrices2)\n",
    "        next1={'model':model1,'fitness':-99999}\n",
    "        next2={'model':model2,'fitness':-99999}\n",
    "        next_generation.append(next1)\n",
    "        next_generation.append(next2)\n",
    "    return next_generation"
   ]
  },
  {
   "cell_type": "code",
   "execution_count": 5,
   "id": "d96b5301",
   "metadata": {},
   "outputs": [],
   "source": [
    "def mutation(generation):\n",
    "    for individual in generation[args['champion_save']:]:\n",
    "        matrices=individual['model'].matrices\n",
    "        mutated_matrices=[]\n",
    "        for matrix in matrices:\n",
    "            in_features=matrix.shape[0]\n",
    "            mask=(torch.rand_like(matrix,device=args['device']) < args['mutation_rate']).float()\n",
    "            noise=torch.randn_like(matrix,device=args['device'])*1/torch.sqrt(torch.tensor(in_features,device=args['device']))*args['sigma']\n",
    "            matrix=matrix+noise*mask\n",
    "            mutated_matrices.append(matrix)\n",
    "        individual['model'].set_matrices(mutated_matrices)\n",
    "    return generation"
   ]
  },
  {
   "cell_type": "code",
   "execution_count": 6,
   "id": "a6944c56",
   "metadata": {},
   "outputs": [],
   "source": [
    "def generation_init(args):\n",
    "    generation=[]\n",
    "    for i in range(args['generation_size']):\n",
    "        model=Actor(args)\n",
    "        generation.append({'model':model,'fitness':0})\n",
    "    return generation"
   ]
  },
  {
   "cell_type": "code",
   "execution_count": 7,
   "id": "77403e21",
   "metadata": {},
   "outputs": [],
   "source": [
    "def score(generation,env,args):\n",
    "    sum=0.0\n",
    "    for i in range(len(generation)):\n",
    "        s=0\n",
    "        Actor=generation[i]['model']\n",
    "        state=env.reset()[0]\n",
    "        state=torch.tensor(state,device=args['device'])\n",
    "        done=False\n",
    "        while not done:\n",
    "            with torch.no_grad():\n",
    "                action=Actor(state)\n",
    "            next_state,reward,terminated,truncated,_=env.step(action)\n",
    "            done=terminated or truncated\n",
    "            s+=reward\n",
    "            generation[i]['fitness']+=reward\n",
    "            sum+=reward\n",
    "            state=torch.tensor(next_state,device=args['device'])\n",
    "        generation[i]['fitness']=s\n",
    "    avg_fitness=sum/args['generation_size']\n",
    "    return generation,avg_fitness"
   ]
  },
  {
   "cell_type": "code",
   "execution_count": null,
   "id": "e851b4fb",
   "metadata": {},
   "outputs": [],
   "source": [
    "env_name='CartPole-v1'\n",
    "env=gym.make(env_name)\n",
    "args['state_dim']=env.observation_space.shape[0]\n",
    "args['action_dim']=env.action_space.n\n",
    "avg_fitness_list=[]\n",
    "generation=generation_init(args)\n",
    "for i in range(args['generations']):\n",
    "    with torch.no_grad():\n",
    "        generation,avg_fitness=score(generation,env,args)\n",
    "        avg_fitness_list.append(avg_fitness)\n",
    "        parents=selection(generation,args)\n",
    "        next_generation=crossover(parents,args)\n",
    "        next_generation=mutation(next_generation)\n",
    "        generation=next_generation\n",
    "    print(f\"generation: {i+1}/{args['generations']} avg_fitness: {avg_fitness}\",end='\\r')\n",
    "env.close()"
   ]
  },
  {
   "cell_type": "code",
   "execution_count": null,
   "id": "db8df73a",
   "metadata": {},
   "outputs": [],
   "source": [
    "episodes=list(range(len(avg_fitness_list)))\n",
    "plt.plot(episodes,avg_fitness_list)\n",
    "plt.show()\n",
    "#torch.cuda.empty_cache()"
   ]
  }
 ],
 "metadata": {
  "kernelspec": {
   "display_name": "LAB",
   "language": "python",
   "name": "python3"
  },
  "language_info": {
   "codemirror_mode": {
    "name": "ipython",
    "version": 3
   },
   "file_extension": ".py",
   "mimetype": "text/x-python",
   "name": "python",
   "nbconvert_exporter": "python",
   "pygments_lexer": "ipython3",
   "version": "3.9.23"
  }
 },
 "nbformat": 4,
 "nbformat_minor": 5
}
